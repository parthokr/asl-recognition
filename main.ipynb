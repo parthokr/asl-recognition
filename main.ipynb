{
 "cells": [
  {
   "cell_type": "markdown",
   "metadata": {
    "pycharm": {
     "name": "#%% md\n"
    }
   },
   "source": [
    "Handle imports"
   ]
  },
  {
   "cell_type": "code",
   "execution_count": 1,
   "metadata": {
    "pycharm": {
     "name": "#%%\n"
    },
    "scrolled": true
   },
   "outputs": [
    {
     "name": "stderr",
     "output_type": "stream",
     "text": [
      "objc[1616]: Class CaptureDelegate is implemented in both /Users/parthokr/miniforge3/envs/asl-recognition/lib/python3.10/site-packages/cv2/cv2.abi3.so (0x166bce480) and /Users/parthokr/miniforge3/envs/asl-recognition/lib/python3.10/site-packages/mediapipe/.dylibs/libopencv_videoio.3.4.16.dylib (0x168a0c860). One of the two will be used. Which one is undefined.\n",
      "objc[1616]: Class CVWindow is implemented in both /Users/parthokr/miniforge3/envs/asl-recognition/lib/python3.10/site-packages/cv2/cv2.abi3.so (0x166bce4d0) and /Users/parthokr/miniforge3/envs/asl-recognition/lib/python3.10/site-packages/mediapipe/.dylibs/libopencv_highgui.3.4.16.dylib (0x157aa8a68). One of the two will be used. Which one is undefined.\n",
      "objc[1616]: Class CVView is implemented in both /Users/parthokr/miniforge3/envs/asl-recognition/lib/python3.10/site-packages/cv2/cv2.abi3.so (0x166bce4f8) and /Users/parthokr/miniforge3/envs/asl-recognition/lib/python3.10/site-packages/mediapipe/.dylibs/libopencv_highgui.3.4.16.dylib (0x157aa8a90). One of the two will be used. Which one is undefined.\n",
      "objc[1616]: Class CVSlider is implemented in both /Users/parthokr/miniforge3/envs/asl-recognition/lib/python3.10/site-packages/cv2/cv2.abi3.so (0x166bce520) and /Users/parthokr/miniforge3/envs/asl-recognition/lib/python3.10/site-packages/mediapipe/.dylibs/libopencv_highgui.3.4.16.dylib (0x157aa8ab8). One of the two will be used. Which one is undefined.\n"
     ]
    }
   ],
   "source": [
    "import tensorflow as tf\n",
    "import cv2\n",
    "import mediapipe as mpq"
   ]
  },
  {
   "cell_type": "markdown",
   "metadata": {
    "pycharm": {
     "name": "#%% md\n"
    }
   },
   "source": [
    "Keypoints using MP Holistic"
   ]
  },
  {
   "cell_type": "code",
   "execution_count": 2,
   "metadata": {
    "pycharm": {
     "name": "#%%\n"
    }
   },
   "outputs": [
    {
     "name": "stdout",
     "output_type": "stream",
     "text": [
      "Pty\n"
     ]
    }
   ],
   "source": [
    "cap = cv2.VideoCapture(0)\n",
    "\n",
    "while True:\n",
    "    ret, frame = cap.read()\n",
    "    if frame is None:\n",
    "        print(\"Empty\")\n",
    "        break\n",
    "    cv2.imshow('OpeCV Feed', frame)\n",
    "    if cv2.waitKey(10) & 0xFF == ord('q'):\n",
    "        print(\"Pty\")\n",
    "        break\n",
    "\n",
    "cap.release()\n",
    "cv2.destroyAllWindows()"
   ]
  },
  {
   "cell_type": "markdown",
   "metadata": {
    "pycharm": {
     "name": "#%% md\n"
    }
   },
   "source": []
  }
 ],
 "metadata": {
  "kernelspec": {
   "display_name": "Python 3 (ipykernel)",
   "language": "python",
   "name": "python3"
  },
  "language_info": {
   "codemirror_mode": {
    "name": "ipython",
    "version": 3
   },
   "file_extension": ".py",
   "mimetype": "text/x-python",
   "name": "python",
   "nbconvert_exporter": "python",
   "pygments_lexer": "ipython3",
   "version": "3.10.8"
  }
 },
 "nbformat": 4,
 "nbformat_minor": 1
}